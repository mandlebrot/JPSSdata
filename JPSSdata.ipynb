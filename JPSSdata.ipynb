{
 "cells": [
  {
   "cell_type": "code",
   "execution_count": 37,
   "metadata": {},
   "outputs": [
    {
     "name": "stdout",
     "output_type": "stream",
     "text": [
      "MOD14\n"
     ]
    }
   ],
   "source": [
    "from cmr import CollectionQuery, GranuleQuery\n",
    "import json\n",
    "\n",
    "api = CollectionQuery()\n",
    "    \n",
    "MOD14 = api.archive_center(\"LP DAAC\").short_name(\"MOD14\").get() #this is a list\n",
    "MYD14 = api.archive_center(\"LP DAAC\").short_name(\"MYD14\").get()\n",
    "MOD03 = api.archive_center(\"LP DAAC\").short_name(\"MOD03\").get()\n",
    "MYD03 = api.archive_center(\"LP DAAC\").short_name(\"MYD03\").get()\n",
    "\n",
    "for collection in MOD14:\n",
    "    print collection[\"short_name\"]\n",
    "    \n",
    "#how to get granule data from specific collection? -edit: see below"
   ]
  },
  {
   "cell_type": "code",
   "execution_count": 66,
   "metadata": {},
   "outputs": [
    {
     "name": "stdout",
     "output_type": "stream",
     "text": [
      " 1914243\n",
      "LANCEMODIS:620328524 2018-07-31T20:30:00.000Z 2018-07-31T20:35:00.000Z [[u'-17.834807 -165.005195 -21.154648 -142.925045 -3.100915 -139.631384 -0.036952 -160.49698 -17.834807 -165.005195']]\n",
      "LANCEMODIS:620328723 2018-07-31T20:35:00.000Z 2018-07-31T20:40:00.000Z [[u'-35.12389 -171.587359 -39.186919 -145.26742 -21.003237 -142.6194 -17.744532 -164.983809 -35.12389 -171.587359']]\n",
      "LANCEMODIS:620329019 2018-07-31T20:40:00.000Z 2018-07-31T20:45:00.000Z [[u'-51.49117 177.295496 -57.131425 -146.436407 -38.892975 -144.74978 -35.044424 -171.535148 -51.49117 177.295496']]\n",
      "LANCEMODIS:620330516 2018-07-31T20:45:00.000Z 2018-07-31T20:50:00.000Z [[u'-65.305902 154.203296 -74.892561 -143.543651 -56.700026 -145.654632 -51.470294 177.514634 -65.305902 154.203296']]\n",
      "LANCEMODIS:620329885 2018-07-31T20:50:00.000Z 2018-07-31T20:55:00.000Z [[u'-70.461337 106.615083 -86.052564 -18.234939 -74.340894 -142.442991 -65.432555 154.694432 -70.461337 106.615083']]\n",
      "LANCEMODIS:620329991 2018-07-31T20:55:00.000Z 2018-07-31T21:00:00.000Z [[u'-61.848714 65.847651 -69.119373 13.712577 -86.132575 -27.917042 -70.86529 106.67263 -61.848714 65.847651']]\n",
      "LANCEMODIS:620329460 2018-07-31T21:00:00.000Z 2018-07-31T21:05:00.000Z [[u'-46.887284 47.540381 -51.345567 14.427403 -69.61755 12.821571 -62.157291 65.353721 -46.887284 47.540381']]\n",
      "LANCEMODIS:620328617 2018-07-31T21:05:00.000Z 2018-07-31T21:10:00.000Z [[u'-30.217561 38.074771 -33.586224 12.807276 -51.815739 14.163468 -47.146739 46.957807 -30.217561 38.074771']]\n",
      "LANCEMODIS:620327036 2018-07-31T21:10:00.000Z 2018-07-31T21:15:00.000Z [[u'-12.836476 32.066308 -15.802543 10.241032 -33.965158 12.735043 -30.404808 37.621968 -12.836476 32.066308']]\n",
      "LANCEMODIS:620327061 2018-07-31T21:15:00.000Z 2018-07-31T21:20:00.000Z [[u'4.887863 27.709238 1.937642 6.833775 -16.056411 10.252071 -12.971328 31.745385 4.887863 27.709238']]\n",
      "3826143\n",
      "{u'day_night_flag': u'NIGHT', u'updated': u'2018-03-28T01:57:50.317Z', u'time_start': u'2000-02-23T23:55:00.000Z', u'links': [{u'href': u'https://ladsweb.modaps.eosdis.nasa.gov/archive/allData/61/MOD03/2000/054/MOD03.A2000054.2355.061.2017171190730.hdf', u'type': u'application/x-hdfeos', u'rel': u'http://esipfed.org/ns/fedsearch/1.1/data#', u'hreflang': u'en-US'}, {u'href': u'http://modaps.nascom.nasa.gov/services/about/product_descriptions_terra.html', u'hreflang': u'en-US', u'rel': u'http://esipfed.org/ns/fedsearch/1.1/documentation#', u'inherited': True}, {u'href': u'https://ladsweb.nascom.nasa.gov/data/search.html', u'hreflang': u'en-US', u'rel': u'http://esipfed.org/ns/fedsearch/1.1/data#', u'inherited': True}, {u'href': u'ftp://ladsweb.nascom.nasa.gov/allData/61/MOD03/', u'hreflang': u'en-US', u'rel': u'http://esipfed.org/ns/fedsearch/1.1/data#', u'inherited': True}], u'title': u'LAADS:2716052493', u'collection_concept_id': u'C1379767668-LAADS', u'coordinate_system': u'GEODETIC', u'time_end': u'2000-02-24T00:00:00.000Z', u'original_format': u'ECHO10', u'polygons': [[u'67.407015 -10.809936 60.173911 -57.881042 44.778397 -41.252548 49.125408 -10.263353 67.407015 -10.809936']], u'browse_flag': False, u'producer_granule_id': u'MOD03.A2000054.2355.061.2017171190730.hdf', u'online_access_flag': True, u'data_center': u'LAADS', u'dataset_id': u'MODIS/Terra Geolocation Fields 5-Min L1A Swath 1km', u'id': u'G1462753629-LAADS'}\n",
      "{u'day_night_flag': u'NIGHT', u'updated': u'2018-03-12T09:30:04.289Z', u'time_start': u'2000-02-24T00:00:00.000Z', u'links': [{u'href': u'https://ladsweb.modaps.eosdis.nasa.gov/archive/allData/6/MOD03/2000/055/MOD03.A2000055.0000.006.2012251042027.hdf', u'type': u'application/x-hdfeos', u'rel': u'http://esipfed.org/ns/fedsearch/1.1/data#', u'hreflang': u'en-US'}, {u'href': u'https://modaps.nascom.nasa.gov/services/about/product_descriptions_terra.html', u'hreflang': u'en-US', u'rel': u'http://esipfed.org/ns/fedsearch/1.1/documentation#', u'inherited': True}, {u'href': u'https://ladsweb.modaps.eosdis.nasa.gov', u'hreflang': u'en-US', u'rel': u'http://esipfed.org/ns/fedsearch/1.1/data#', u'inherited': True}, {u'href': u'https://ladsweb.modaps.eosdis.nasa.gov/archive/allData/6/MOD03/', u'hreflang': u'en-US', u'rel': u'http://esipfed.org/ns/fedsearch/1.1/data#', u'inherited': True}], u'title': u'LAADS:908169029', u'collection_concept_id': u'C203234486-LAADS', u'coordinate_system': u'GEODETIC', u'time_end': u'2000-02-24T00:05:00.000Z', u'original_format': u'ECHO10', u'polygons': [[u'84.790455 8.997478 70.237428 -95.252778 60.2269 -57.500185 66.909507 -9.777289 84.790455 8.997478']], u'browse_flag': False, u'producer_granule_id': u'MOD03.A2000055.0000.006.2012251042027.hdf', u'online_access_flag': True, u'data_center': u'LAADS', u'dataset_id': u'MODIS/Terra Geolocation Fields 5-Min L1A Swath 1km V006', u'id': u'G240100581-LAADS'}\n",
      "{u'day_night_flag': u'NIGHT', u'updated': u'2018-03-28T01:58:00.125Z', u'time_start': u'2000-02-24T00:00:00.000Z', u'links': [{u'href': u'https://ladsweb.modaps.eosdis.nasa.gov/archive/allData/61/MOD03/2000/055/MOD03.A2000055.0000.061.2017171190847.hdf', u'type': u'application/x-hdfeos', u'rel': u'http://esipfed.org/ns/fedsearch/1.1/data#', u'hreflang': u'en-US'}, {u'href': u'http://modaps.nascom.nasa.gov/services/about/product_descriptions_terra.html', u'hreflang': u'en-US', u'rel': u'http://esipfed.org/ns/fedsearch/1.1/documentation#', u'inherited': True}, {u'href': u'https://ladsweb.nascom.nasa.gov/data/search.html', u'hreflang': u'en-US', u'rel': u'http://esipfed.org/ns/fedsearch/1.1/data#', u'inherited': True}, {u'href': u'ftp://ladsweb.nascom.nasa.gov/allData/61/MOD03/', u'hreflang': u'en-US', u'rel': u'http://esipfed.org/ns/fedsearch/1.1/data#', u'inherited': True}], u'title': u'LAADS:2715071933', u'collection_concept_id': u'C1379767668-LAADS', u'coordinate_system': u'GEODETIC', u'time_end': u'2000-02-24T00:05:00.000Z', u'original_format': u'ECHO10', u'polygons': [[u'84.790437 9.001166 70.237734 -95.252733 60.227152 -57.499823 66.909608 -9.776462 84.790437 9.001166']], u'browse_flag': False, u'producer_granule_id': u'MOD03.A2000055.0000.061.2017171190847.hdf', u'online_access_flag': True, u'data_center': u'LAADS', u'dataset_id': u'MODIS/Terra Geolocation Fields 5-Min L1A Swath 1km', u'id': u'G1462754132-LAADS'}\n",
      "{u'day_night_flag': u'BOTH', u'updated': u'2018-03-12T09:30:10.648Z', u'time_start': u'2000-02-24T00:05:00.000Z', u'links': [{u'href': u'https://ladsweb.modaps.eosdis.nasa.gov/archive/allData/6/MOD03/2000/055/MOD03.A2000055.0005.006.2012251043041.hdf', u'type': u'application/x-hdfeos', u'rel': u'http://esipfed.org/ns/fedsearch/1.1/data#', u'hreflang': u'en-US'}, {u'href': u'https://modaps.nascom.nasa.gov/services/about/product_descriptions_terra.html', u'hreflang': u'en-US', u'rel': u'http://esipfed.org/ns/fedsearch/1.1/documentation#', u'inherited': True}, {u'href': u'https://ladsweb.modaps.eosdis.nasa.gov', u'hreflang': u'en-US', u'rel': u'http://esipfed.org/ns/fedsearch/1.1/data#', u'inherited': True}, {u'href': u'https://ladsweb.modaps.eosdis.nasa.gov/archive/allData/6/MOD03/', u'hreflang': u'en-US', u'rel': u'http://esipfed.org/ns/fedsearch/1.1/data#', u'inherited': True}], u'title': u'LAADS:908170514', u'collection_concept_id': u'C203234486-LAADS', u'coordinate_system': u'GEODETIC', u'time_end': u'2000-02-24T00:10:00.000Z', u'original_format': u'ECHO10', u'polygons': [[u'76.50247 146.933617 66.835561 -145.55302 70.509585 -94.815539 84.145187 9.994025 76.50247 146.933617']], u'browse_flag': False, u'producer_granule_id': u'MOD03.A2000055.0005.006.2012251043041.hdf', u'online_access_flag': True, u'data_center': u'LAADS', u'dataset_id': u'MODIS/Terra Geolocation Fields 5-Min L1A Swath 1km V006', u'id': u'G240101253-LAADS'}\n",
      "{u'day_night_flag': u'BOTH', u'updated': u'2018-03-28T01:58:00.125Z', u'time_start': u'2000-02-24T00:05:00.000Z', u'links': [{u'href': u'https://ladsweb.modaps.eosdis.nasa.gov/archive/allData/61/MOD03/2000/055/MOD03.A2000055.0005.061.2017171191329.hdf', u'type': u'application/x-hdfeos', u'rel': u'http://esipfed.org/ns/fedsearch/1.1/data#', u'hreflang': u'en-US'}, {u'href': u'http://modaps.nascom.nasa.gov/services/about/product_descriptions_terra.html', u'hreflang': u'en-US', u'rel': u'http://esipfed.org/ns/fedsearch/1.1/documentation#', u'inherited': True}, {u'href': u'https://ladsweb.nascom.nasa.gov/data/search.html', u'hreflang': u'en-US', u'rel': u'http://esipfed.org/ns/fedsearch/1.1/data#', u'inherited': True}, {u'href': u'ftp://ladsweb.nascom.nasa.gov/allData/61/MOD03/', u'hreflang': u'en-US', u'rel': u'http://esipfed.org/ns/fedsearch/1.1/data#', u'inherited': True}], u'title': u'LAADS:2715071934', u'collection_concept_id': u'C1379767668-LAADS', u'coordinate_system': u'GEODETIC', u'time_end': u'2000-02-24T00:10:00.000Z', u'original_format': u'ECHO10', u'polygons': [[u'76.50228 146.932438 66.835767 -145.553577 70.509885 -94.815506 84.145132 9.997243 76.50228 146.932438']], u'browse_flag': False, u'producer_granule_id': u'MOD03.A2000055.0005.061.2017171191329.hdf', u'online_access_flag': True, u'data_center': u'LAADS', u'dataset_id': u'MODIS/Terra Geolocation Fields 5-Min L1A Swath 1km', u'id': u'G1462754127-LAADS'}\n",
      "{u'day_night_flag': u'DAY', u'updated': u'2018-03-12T09:30:04.289Z', u'time_start': u'2000-02-24T00:10:00.000Z', u'links': [{u'href': u'https://ladsweb.modaps.eosdis.nasa.gov/archive/allData/6/MOD03/2000/055/MOD03.A2000055.0010.006.2012251041344.hdf', u'type': u'application/x-hdfeos', u'rel': u'http://esipfed.org/ns/fedsearch/1.1/data#', u'hreflang': u'en-US'}, {u'href': u'https://modaps.nascom.nasa.gov/services/about/product_descriptions_terra.html', u'hreflang': u'en-US', u'rel': u'http://esipfed.org/ns/fedsearch/1.1/documentation#', u'inherited': True}, {u'href': u'https://ladsweb.modaps.eosdis.nasa.gov', u'hreflang': u'en-US', u'rel': u'http://esipfed.org/ns/fedsearch/1.1/data#', u'inherited': True}, {u'href': u'https://ladsweb.modaps.eosdis.nasa.gov/archive/allData/6/MOD03/', u'hreflang': u'en-US', u'rel': u'http://esipfed.org/ns/fedsearch/1.1/data#', u'inherited': True}], u'title': u'LAADS:908167939', u'collection_concept_id': u'C203234486-LAADS', u'coordinate_system': u'GEODETIC', u'time_end': u'2000-02-24T00:15:00.000Z', u'original_format': u'ECHO10', u'polygons': [[u'58.831399 150.408637 53.551884 -171.272636 67.194537 -145.975186 76.971147 145.20272 58.831399 150.408637']], u'browse_flag': False, u'producer_granule_id': u'MOD03.A2000055.0010.006.2012251041344.hdf', u'online_access_flag': True, u'data_center': u'LAADS', u'dataset_id': u'MODIS/Terra Geolocation Fields 5-Min L1A Swath 1km V006', u'id': u'G240100339-LAADS'}\n",
      "{u'day_night_flag': u'DAY', u'updated': u'2018-03-28T01:58:05.993Z', u'time_start': u'2000-02-24T00:10:00.000Z', u'links': [{u'href': u'https://ladsweb.modaps.eosdis.nasa.gov/archive/allData/61/MOD03/2000/055/MOD03.A2000055.0010.061.2017171190850.hdf', u'type': u'application/x-hdfeos', u'rel': u'http://esipfed.org/ns/fedsearch/1.1/data#', u'hreflang': u'en-US'}, {u'href': u'http://modaps.nascom.nasa.gov/services/about/product_descriptions_terra.html', u'hreflang': u'en-US', u'rel': u'http://esipfed.org/ns/fedsearch/1.1/documentation#', u'inherited': True}, {u'href': u'https://ladsweb.nascom.nasa.gov/data/search.html', u'hreflang': u'en-US', u'rel': u'http://esipfed.org/ns/fedsearch/1.1/data#', u'inherited': True}, {u'href': u'ftp://ladsweb.nascom.nasa.gov/allData/61/MOD03/', u'hreflang': u'en-US', u'rel': u'http://esipfed.org/ns/fedsearch/1.1/data#', u'inherited': True}], u'title': u'LAADS:2715072213', u'collection_concept_id': u'C1379767668-LAADS', u'coordinate_system': u'GEODETIC', u'time_end': u'2000-02-24T00:15:00.000Z', u'original_format': u'ECHO10', u'polygons': [[u'58.831248 150.408066 53.551985 -171.273133 67.194745 -145.975778 76.970977 145.201467 58.831248 150.408066']], u'browse_flag': False, u'producer_granule_id': u'MOD03.A2000055.0010.061.2017171190850.hdf', u'online_access_flag': True, u'data_center': u'LAADS', u'dataset_id': u'MODIS/Terra Geolocation Fields 5-Min L1A Swath 1km', u'id': u'G1462754432-LAADS'}\n",
      "{u'day_night_flag': u'DAY', u'updated': u'2018-03-12T09:30:04.289Z', u'time_start': u'2000-02-24T00:15:00.000Z', u'links': [{u'href': u'https://ladsweb.modaps.eosdis.nasa.gov/archive/allData/6/MOD03/2000/055/MOD03.A2000055.0015.006.2012251041408.hdf', u'type': u'application/x-hdfeos', u'rel': u'http://esipfed.org/ns/fedsearch/1.1/data#', u'hreflang': u'en-US'}, {u'href': u'https://modaps.nascom.nasa.gov/services/about/product_descriptions_terra.html', u'hreflang': u'en-US', u'rel': u'http://esipfed.org/ns/fedsearch/1.1/documentation#', u'inherited': True}, {u'href': u'https://ladsweb.modaps.eosdis.nasa.gov', u'hreflang': u'en-US', u'rel': u'http://esipfed.org/ns/fedsearch/1.1/data#', u'inherited': True}, {u'href': u'https://ladsweb.modaps.eosdis.nasa.gov/archive/allData/6/MOD03/', u'hreflang': u'en-US', u'rel': u'http://esipfed.org/ns/fedsearch/1.1/data#', u'inherited': True}], u'title': u'LAADS:908168119', u'collection_concept_id': u'C203234486-LAADS', u'coordinate_system': u'GEODETIC', u'time_end': u'2000-02-24T00:20:00.000Z', u'original_format': u'ECHO10', u'polygons': [[u'41.059853 149.303086 37.346375 176.684177 53.834211 -171.857437 59.322292 149.956639 41.059853 149.303086']], u'browse_flag': False, u'producer_granule_id': u'MOD03.A2000055.0015.006.2012251041408.hdf', u'online_access_flag': True, u'data_center': u'LAADS', u'dataset_id': u'MODIS/Terra Geolocation Fields 5-Min L1A Swath 1km V006', u'id': u'G240100343-LAADS'}\n",
      "{u'day_night_flag': u'DAY', u'updated': u'2018-03-28T01:58:05.993Z', u'time_start': u'2000-02-24T00:15:00.000Z', u'links': [{u'href': u'https://ladsweb.modaps.eosdis.nasa.gov/archive/allData/61/MOD03/2000/055/MOD03.A2000055.0015.061.2017171190930.hdf', u'type': u'application/x-hdfeos', u'rel': u'http://esipfed.org/ns/fedsearch/1.1/data#', u'hreflang': u'en-US'}, {u'href': u'http://modaps.nascom.nasa.gov/services/about/product_descriptions_terra.html', u'hreflang': u'en-US', u'rel': u'http://esipfed.org/ns/fedsearch/1.1/documentation#', u'inherited': True}, {u'href': u'https://ladsweb.nascom.nasa.gov/data/search.html', u'hreflang': u'en-US', u'rel': u'http://esipfed.org/ns/fedsearch/1.1/data#', u'inherited': True}, {u'href': u'ftp://ladsweb.nascom.nasa.gov/allData/61/MOD03/', u'hreflang': u'en-US', u'rel': u'http://esipfed.org/ns/fedsearch/1.1/data#', u'inherited': True}], u'title': u'LAADS:2715072214', u'collection_concept_id': u'C1379767668-LAADS', u'coordinate_system': u'GEODETIC', u'time_end': u'2000-02-24T00:20:00.000Z', u'original_format': u'ECHO10', u'polygons': [[u'41.059722 149.302688 37.346414 176.683798 53.834299 -171.857924 59.32217 149.956049 41.059722 149.302688']], u'browse_flag': False, u'producer_granule_id': u'MOD03.A2000055.0015.061.2017171190930.hdf', u'online_access_flag': True, u'data_center': u'LAADS', u'dataset_id': u'MODIS/Terra Geolocation Fields 5-Min L1A Swath 1km', u'id': u'G1462754437-LAADS'}\n",
      "{u'day_night_flag': u'DAY', u'updated': u'2018-03-12T09:30:04.289Z', u'time_start': u'2000-02-24T00:20:00.000Z', u'links': [{u'href': u'https://ladsweb.modaps.eosdis.nasa.gov/archive/allData/6/MOD03/2000/055/MOD03.A2000055.0020.006.2012251041808.hdf', u'type': u'application/x-hdfeos', u'rel': u'http://esipfed.org/ns/fedsearch/1.1/data#', u'hreflang': u'en-US'}, {u'href': u'https://modaps.nascom.nasa.gov/services/about/product_descriptions_terra.html', u'hreflang': u'en-US', u'rel': u'http://esipfed.org/ns/fedsearch/1.1/documentation#', u'inherited': True}, {u'href': u'https://ladsweb.modaps.eosdis.nasa.gov', u'hreflang': u'en-US', u'rel': u'http://esipfed.org/ns/fedsearch/1.1/data#', u'inherited': True}, {u'href': u'https://ladsweb.modaps.eosdis.nasa.gov/archive/allData/6/MOD03/', u'hreflang': u'en-US', u'rel': u'http://esipfed.org/ns/fedsearch/1.1/data#', u'inherited': True}], u'title': u'LAADS:908169451', u'collection_concept_id': u'C203234486-LAADS', u'coordinate_system': u'GEODETIC', u'time_end': u'2000-02-24T00:25:00.000Z', u'original_format': u'ECHO10', u'polygons': [[u'23.261464 147.01952 20.159024 169.609491 37.551624 176.202993 41.481147 149.135221 23.261464 147.01952']], u'browse_flag': False, u'producer_granule_id': u'MOD03.A2000055.0020.006.2012251041808.hdf', u'online_access_flag': True, u'data_center': u'LAADS', u'dataset_id': u'MODIS/Terra Geolocation Fields 5-Min L1A Swath 1km V006', u'id': u'G240100696-LAADS'}\n"
     ]
    }
   ],
   "source": [
    "from cmr import CollectionQuery, GranuleQuery\n",
    "import json\n",
    "api = GranuleQuery()\n",
    "\n",
    "#MOD14: data - auto-sorted by start_time\n",
    "MOD14granules = api.parameters(\n",
    "                        short_name=\"MOD14\",\n",
    "                        platform=\"Terra\",\n",
    "                        downloadable=True)\n",
    "\n",
    "print MOD14granules.hits()\n",
    "#MOD14granules = api.get_all()\n",
    "MOD14granules = api.get(10)\n",
    "\n",
    "for granule in MOD14granules:\n",
    "    print granule[\"title\"], granule[\"time_start\"], granule[\"time_end\"], granule[\"polygons\"]\n",
    "\n",
    "#MOD03: geolocation data - auto-sorted by start_time\n",
    "MOD03granules = api.parameters(\n",
    "                        short_name=\"MOD03\",\n",
    "                        platform=\"Terra\",\n",
    "                        downloadable=True)\n",
    "\n",
    "print MOD03granules.hits()\n",
    "MOD03granules = api.get(10)\n",
    "\n",
    "for granule in MOD03granules:\n",
    "    print granule\n",
    "    #print granule[\"title\"], granule[\"time_start\"], granule[\"time_end\"], granule[\"longitude\"]\n",
    "    #\"polygons\" gives long/lat data in pairs-first/last pair are the same\n",
    "    # note - it appears that all granules are quadrilaterals"
   ]
  },
  {
   "cell_type": "code",
   "execution_count": null,
   "metadata": {
    "collapsed": true
   },
   "outputs": [],
   "source": []
  }
 ],
 "metadata": {
  "kernelspec": {
   "display_name": "Python 2",
   "language": "python",
   "name": "python2"
  },
  "language_info": {
   "codemirror_mode": {
    "name": "ipython",
    "version": 2
   },
   "file_extension": ".py",
   "mimetype": "text/x-python",
   "name": "python",
   "nbconvert_exporter": "python",
   "pygments_lexer": "ipython2",
   "version": "2.7.14"
  }
 },
 "nbformat": 4,
 "nbformat_minor": 2
}
